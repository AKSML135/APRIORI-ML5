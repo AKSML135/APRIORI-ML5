{
 "cells": [
  {
   "cell_type": "code",
   "execution_count": 4,
   "metadata": {},
   "outputs": [],
   "source": [
    "import pandas as pd\n",
    "import numpy as np\n",
    "import matplotlib.pyplot as plt"
   ]
  },
  {
   "cell_type": "code",
   "execution_count": 5,
   "metadata": {},
   "outputs": [],
   "source": [
    "dataset=pd.read_csv('Ads_CTR_Optimisation.csv')\n"
   ]
  },
  {
   "cell_type": "code",
   "execution_count": 13,
   "metadata": {},
   "outputs": [],
   "source": [
    "import math\n",
    "N=10000\n",
    "d=10\n",
    "ads_selected=[]\n",
    "numbers=[0]*d\n",
    "sums=[0]*d\n",
    "total_reward=0\n",
    "for n in range (0,N):\n",
    "    ad=0\n",
    "    max_upper=0\n",
    "    for i in range (0,d):\n",
    "        if numbers[i]>0:\n",
    "            \n",
    "            average_reward=sums[i]/numbers[i]\n",
    "            delta=math.sqrt(3/2*math.log(n+1)/numbers[i])\n",
    "            upper_bound=average_reward+delta\n",
    "        else:\n",
    "            upper_bound=1e400\n",
    "        if upper_bound>max_upper:\n",
    "            max_upper=upper_bound\n",
    "            ad=i\n",
    "    ads_selected.append(ad)\n",
    "    numbers[ad]=numbers[ad]+1\n",
    "    reward=dataset.values[n,ad]\n",
    "    sums[ad]=sums[ad]+reward  \n",
    "    total_reward=total_reward+reward"
   ]
  },
  {
   "cell_type": "code",
   "execution_count": null,
   "metadata": {},
   "outputs": [],
   "source": [
    "#alternate\n",
    "#import random\n",
    "#N=10000\n",
    "#d=10\n",
    "#ads_selected=[]\n",
    "#total_reward=0\n",
    "#for n in range(0,N):\n",
    "   # ad=random.randrange(d)\n",
    "   # ads_selected.append(ad)\n",
    "   # reward=dataset.values[n,ad]\n",
    "   # total_reward=total_reward+reward"
   ]
  },
  {
   "cell_type": "code",
   "execution_count": 14,
   "metadata": {},
   "outputs": [
    {
     "data": {
      "image/png": "[encoded data removed]",
      "text/plain": [
       "<Figure size 432x288 with 1 Axes>"
      ]
     },
     "metadata": {},
     "output_type": "display_data"
    }
   ],
   "source": [
    "plt.hist(ads_selected)\n",
    "plt.title('histogram of ads selection')\n",
    "plt.xlabel('Ads')\n",
    "plt.ylabel('number of times each ads was selected')\n",
    "plt.show()"
   ]
  },
  {
   "cell_type": "code",
   "execution_count": null,
   "metadata": {},
   "outputs": [],
   "source": []
  },
  {
   "cell_type": "code",
   "execution_count": null,
   "metadata": {},
   "outputs": [],
   "source": []
  }
 ],
 "metadata": {
  "kernelspec": {
   "display_name": "Python 3",
   "language": "python",
   "name": "python3"
  },
  "language_info": {
   "codemirror_mode": {
    "name": "ipython",
    "version": 3
   },
   "file_extension": ".py",
   "mimetype": "text/x-python",
   "name": "python",
   "nbconvert_exporter": "python",
   "pygments_lexer": "ipython3",
   "version": "3.6.5"
  }
 },
 "nbformat": 4,
 "nbformat_minor": 2
}
